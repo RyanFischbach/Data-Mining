{
  "nbformat": 4,
  "nbformat_minor": 0,
  "metadata": {
    "colab": {
      "name": "CollaborativeFilteringRecommendationSystem.ipynb",
      "provenance": [],
      "collapsed_sections": []
    },
    "kernelspec": {
      "display_name": "Python 3",
      "name": "python3"
    }
  },
  "cells": [
    {
      "cell_type": "code",
      "metadata": {
        "id": "NkygTOxbcBoI"
      },
      "source": [
        "#import packages\n",
        "import numpy as np\n",
        "import pandas as pd"
      ],
      "execution_count": 42,
      "outputs": []
    },
    {
      "cell_type": "code",
      "metadata": {
        "id": "-XWKGAgJcVL-",
        "colab": {
          "base_uri": "https://localhost:8080/"
        },
        "outputId": "9685ed6e-b215-423a-dbb9-4de2e49add3e"
      },
      "source": [
        "#read in gz file\n",
        "df = pd.read_csv('reviews_01.tsv.gz', compression='gzip', header=0, sep='\\t',  error_bad_lines=False)"
      ],
      "execution_count": 43,
      "outputs": [
        {
          "output_type": "stream",
          "text": [
            "b'Skipping line 5782: expected 15 fields, saw 22\\nSkipping line 31979: expected 15 fields, saw 22\\nSkipping line 32408: expected 15 fields, saw 22\\nSkipping line 45709: expected 15 fields, saw 22\\nSkipping line 64585: expected 15 fields, saw 22\\n'\n",
            "b'Skipping line 115742: expected 15 fields, saw 22\\nSkipping line 125537: expected 15 fields, saw 22\\nSkipping line 127580: expected 15 fields, saw 22\\nSkipping line 128696: expected 15 fields, saw 22\\n'\n",
            "b'Skipping line 143851: expected 15 fields, saw 22\\nSkipping line 147069: expected 15 fields, saw 22\\nSkipping line 149233: expected 15 fields, saw 22\\nSkipping line 167536: expected 15 fields, saw 22\\nSkipping line 168535: expected 15 fields, saw 22\\nSkipping line 171659: expected 15 fields, saw 22\\nSkipping line 184533: expected 15 fields, saw 22\\nSkipping line 184624: expected 15 fields, saw 22\\nSkipping line 184908: expected 15 fields, saw 22\\n'\n",
            "b'Skipping line 219150: expected 15 fields, saw 22\\nSkipping line 223178: expected 15 fields, saw 22\\nSkipping line 234333: expected 15 fields, saw 22\\nSkipping line 256242: expected 15 fields, saw 22\\n'\n",
            "b'Skipping line 268157: expected 15 fields, saw 22\\nSkipping line 276191: expected 15 fields, saw 22\\nSkipping line 277091: expected 15 fields, saw 22\\nSkipping line 288516: expected 15 fields, saw 22\\nSkipping line 289901: expected 15 fields, saw 22\\nSkipping line 292922: expected 15 fields, saw 22\\nSkipping line 308964: expected 15 fields, saw 22\\nSkipping line 325233: expected 15 fields, saw 22\\n'\n",
            "b'Skipping line 354051: expected 15 fields, saw 22\\nSkipping line 360552: expected 15 fields, saw 22\\nSkipping line 362489: expected 15 fields, saw 22\\nSkipping line 383798: expected 15 fields, saw 22\\nSkipping line 392390: expected 15 fields, saw 22\\n'\n",
            "b'Skipping line 456105: expected 15 fields, saw 22\\n'\n"
          ],
          "name": "stderr"
        }
      ]
    },
    {
      "cell_type": "code",
      "metadata": {
        "id": "aeUDvfsSdLD3",
        "colab": {
          "base_uri": "https://localhost:8080/",
          "height": 949
        },
        "outputId": "8b4c9e68-41cf-4bb0-872c-13fe3da4c7ba"
      },
      "source": [
        "#preview dataframe\n",
        "df"
      ],
      "execution_count": 44,
      "outputs": [
        {
          "output_type": "execute_result",
          "data": {
            "text/html": [
              "<div>\n",
              "<style scoped>\n",
              "    .dataframe tbody tr th:only-of-type {\n",
              "        vertical-align: middle;\n",
              "    }\n",
              "\n",
              "    .dataframe tbody tr th {\n",
              "        vertical-align: top;\n",
              "    }\n",
              "\n",
              "    .dataframe thead th {\n",
              "        text-align: right;\n",
              "    }\n",
              "</style>\n",
              "<table border=\"1\" class=\"dataframe\">\n",
              "  <thead>\n",
              "    <tr style=\"text-align: right;\">\n",
              "      <th></th>\n",
              "      <th>marketplace</th>\n",
              "      <th>customer_id</th>\n",
              "      <th>review_id</th>\n",
              "      <th>product_id</th>\n",
              "      <th>product_parent</th>\n",
              "      <th>product_title</th>\n",
              "      <th>product_category</th>\n",
              "      <th>star_rating</th>\n",
              "      <th>helpful_votes</th>\n",
              "      <th>total_votes</th>\n",
              "      <th>vine</th>\n",
              "      <th>verified_purchase</th>\n",
              "      <th>review_headline</th>\n",
              "      <th>review_body</th>\n",
              "      <th>review_date</th>\n",
              "    </tr>\n",
              "  </thead>\n",
              "  <tbody>\n",
              "    <tr>\n",
              "      <th>0</th>\n",
              "      <td>US</td>\n",
              "      <td>45610553</td>\n",
              "      <td>RMDCHWD0Y5OZ9</td>\n",
              "      <td>B00HH62VB6</td>\n",
              "      <td>618218723</td>\n",
              "      <td>AGPtek® 10 Isolated Output 9V 12V 18V Guitar P...</td>\n",
              "      <td>Musical Instruments</td>\n",
              "      <td>3</td>\n",
              "      <td>0</td>\n",
              "      <td>1</td>\n",
              "      <td>N</td>\n",
              "      <td>N</td>\n",
              "      <td>Three Stars</td>\n",
              "      <td>Works very good, but induces ALOT of noise.</td>\n",
              "      <td>2015-08-31</td>\n",
              "    </tr>\n",
              "    <tr>\n",
              "      <th>1</th>\n",
              "      <td>US</td>\n",
              "      <td>14640079</td>\n",
              "      <td>RZSL0BALIYUNU</td>\n",
              "      <td>B003LRN53I</td>\n",
              "      <td>986692292</td>\n",
              "      <td>Sennheiser HD203 Closed-Back DJ Headphones</td>\n",
              "      <td>Musical Instruments</td>\n",
              "      <td>5</td>\n",
              "      <td>0</td>\n",
              "      <td>0</td>\n",
              "      <td>N</td>\n",
              "      <td>Y</td>\n",
              "      <td>Five Stars</td>\n",
              "      <td>Nice headphones at a reasonable price.</td>\n",
              "      <td>2015-08-31</td>\n",
              "    </tr>\n",
              "    <tr>\n",
              "      <th>2</th>\n",
              "      <td>US</td>\n",
              "      <td>6111003</td>\n",
              "      <td>RIZR67JKUDBI0</td>\n",
              "      <td>B0006VMBHI</td>\n",
              "      <td>603261968</td>\n",
              "      <td>AudioQuest LP record clean brush</td>\n",
              "      <td>Musical Instruments</td>\n",
              "      <td>3</td>\n",
              "      <td>0</td>\n",
              "      <td>1</td>\n",
              "      <td>N</td>\n",
              "      <td>Y</td>\n",
              "      <td>Three Stars</td>\n",
              "      <td>removes dust. does not clean</td>\n",
              "      <td>2015-08-31</td>\n",
              "    </tr>\n",
              "    <tr>\n",
              "      <th>3</th>\n",
              "      <td>US</td>\n",
              "      <td>1546619</td>\n",
              "      <td>R27HL570VNL85F</td>\n",
              "      <td>B002B55TRG</td>\n",
              "      <td>575084461</td>\n",
              "      <td>Hohner Inc. 560BX-BF Special Twenty Harmonica</td>\n",
              "      <td>Musical Instruments</td>\n",
              "      <td>5</td>\n",
              "      <td>0</td>\n",
              "      <td>0</td>\n",
              "      <td>N</td>\n",
              "      <td>Y</td>\n",
              "      <td>I purchase these for a friend in return for pl...</td>\n",
              "      <td>I purchase these for a friend in return for pl...</td>\n",
              "      <td>2015-08-31</td>\n",
              "    </tr>\n",
              "    <tr>\n",
              "      <th>4</th>\n",
              "      <td>US</td>\n",
              "      <td>12222213</td>\n",
              "      <td>R34EBU9QDWJ1GD</td>\n",
              "      <td>B00N1YPXW2</td>\n",
              "      <td>165236328</td>\n",
              "      <td>Blue Yeti USB Microphone - Blackout Edition</td>\n",
              "      <td>Musical Instruments</td>\n",
              "      <td>5</td>\n",
              "      <td>0</td>\n",
              "      <td>0</td>\n",
              "      <td>N</td>\n",
              "      <td>Y</td>\n",
              "      <td>Five Stars</td>\n",
              "      <td>This is an awesome mic!</td>\n",
              "      <td>2015-08-31</td>\n",
              "    </tr>\n",
              "    <tr>\n",
              "      <th>...</th>\n",
              "      <td>...</td>\n",
              "      <td>...</td>\n",
              "      <td>...</td>\n",
              "      <td>...</td>\n",
              "      <td>...</td>\n",
              "      <td>...</td>\n",
              "      <td>...</td>\n",
              "      <td>...</td>\n",
              "      <td>...</td>\n",
              "      <td>...</td>\n",
              "      <td>...</td>\n",
              "      <td>...</td>\n",
              "      <td>...</td>\n",
              "      <td>...</td>\n",
              "      <td>...</td>\n",
              "    </tr>\n",
              "    <tr>\n",
              "      <th>903999</th>\n",
              "      <td>US</td>\n",
              "      <td>51647170</td>\n",
              "      <td>R6MDTUK723YPY</td>\n",
              "      <td>B00002DDSF</td>\n",
              "      <td>530155260</td>\n",
              "      <td>Yamaha PSR240 61-Note Touch-Sensitive Portable...</td>\n",
              "      <td>Musical Instruments</td>\n",
              "      <td>4</td>\n",
              "      <td>143</td>\n",
              "      <td>148</td>\n",
              "      <td>N</td>\n",
              "      <td>N</td>\n",
              "      <td>Great keyboard for children</td>\n",
              "      <td>This keyboard is great, and my children have r...</td>\n",
              "      <td>2000-01-11</td>\n",
              "    </tr>\n",
              "    <tr>\n",
              "      <th>904000</th>\n",
              "      <td>US</td>\n",
              "      <td>52108449</td>\n",
              "      <td>R10B4417NCK98O</td>\n",
              "      <td>B00002JV63</td>\n",
              "      <td>70258872</td>\n",
              "      <td>Yamaha PSR340 61-Note Touch-Sensitive Portable...</td>\n",
              "      <td>Musical Instruments</td>\n",
              "      <td>5</td>\n",
              "      <td>24</td>\n",
              "      <td>24</td>\n",
              "      <td>N</td>\n",
              "      <td>N</td>\n",
              "      <td>Delighted</td>\n",
              "      <td>I purchased the PSR340 as a Christmas gift for...</td>\n",
              "      <td>1999-12-29</td>\n",
              "    </tr>\n",
              "    <tr>\n",
              "      <th>904001</th>\n",
              "      <td>US</td>\n",
              "      <td>50610066</td>\n",
              "      <td>R3V2A0GUZ3JAQ4</td>\n",
              "      <td>B00002JV63</td>\n",
              "      <td>70258872</td>\n",
              "      <td>Yamaha PSR340 61-Note Touch-Sensitive Portable...</td>\n",
              "      <td>Musical Instruments</td>\n",
              "      <td>4</td>\n",
              "      <td>27</td>\n",
              "      <td>29</td>\n",
              "      <td>N</td>\n",
              "      <td>N</td>\n",
              "      <td>no power supply</td>\n",
              "      <td>This is a fine keyboard.  Unfortunately, Yamah...</td>\n",
              "      <td>1999-12-22</td>\n",
              "    </tr>\n",
              "    <tr>\n",
              "      <th>904002</th>\n",
              "      <td>US</td>\n",
              "      <td>50522024</td>\n",
              "      <td>R1VYXC7FFG4LGH</td>\n",
              "      <td>B00002F2IZ</td>\n",
              "      <td>615125621</td>\n",
              "      <td>Yamaha DD9M Touch-Sensitive Digital Drums</td>\n",
              "      <td>Musical Instruments</td>\n",
              "      <td>4</td>\n",
              "      <td>46</td>\n",
              "      <td>49</td>\n",
              "      <td>N</td>\n",
              "      <td>N</td>\n",
              "      <td>I've got the beat!</td>\n",
              "      <td>My son who is a drummer found this very easy t...</td>\n",
              "      <td>1999-12-17</td>\n",
              "    </tr>\n",
              "    <tr>\n",
              "      <th>904003</th>\n",
              "      <td>US</td>\n",
              "      <td>50522024</td>\n",
              "      <td>R2XJJXFZOM36V5</td>\n",
              "      <td>B00002JV63</td>\n",
              "      <td>70258872</td>\n",
              "      <td>Yamaha PSR340 61-Note Touch-Sensitive Portable...</td>\n",
              "      <td>Musical Instruments</td>\n",
              "      <td>5</td>\n",
              "      <td>17</td>\n",
              "      <td>19</td>\n",
              "      <td>N</td>\n",
              "      <td>N</td>\n",
              "      <td>Awesome Keyboard!</td>\n",
              "      <td>This Yamaha keyboard does everything! I can ho...</td>\n",
              "      <td>1999-12-13</td>\n",
              "    </tr>\n",
              "  </tbody>\n",
              "</table>\n",
              "<p>904004 rows × 15 columns</p>\n",
              "</div>"
            ],
            "text/plain": [
              "       marketplace  ...  review_date\n",
              "0               US  ...   2015-08-31\n",
              "1               US  ...   2015-08-31\n",
              "2               US  ...   2015-08-31\n",
              "3               US  ...   2015-08-31\n",
              "4               US  ...   2015-08-31\n",
              "...            ...  ...          ...\n",
              "903999          US  ...   2000-01-11\n",
              "904000          US  ...   1999-12-29\n",
              "904001          US  ...   1999-12-22\n",
              "904002          US  ...   1999-12-17\n",
              "904003          US  ...   1999-12-13\n",
              "\n",
              "[904004 rows x 15 columns]"
            ]
          },
          "metadata": {
            "tags": []
          },
          "execution_count": 44
        }
      ]
    },
    {
      "cell_type": "code",
      "metadata": {
        "id": "M444Cfhajjir",
        "colab": {
          "base_uri": "https://localhost:8080/"
        },
        "outputId": "48abddbf-5152-4a0a-f90c-f1a77c098160"
      },
      "source": [
        "#get number of entries\n",
        "len(df)"
      ],
      "execution_count": 45,
      "outputs": [
        {
          "output_type": "execute_result",
          "data": {
            "text/plain": [
              "904004"
            ]
          },
          "metadata": {
            "tags": []
          },
          "execution_count": 45
        }
      ]
    },
    {
      "cell_type": "code",
      "metadata": {
        "id": "6hdNLukSjZX3"
      },
      "source": [
        "#check for duplicates\n",
        "df.drop_duplicates(inplace=True)"
      ],
      "execution_count": 46,
      "outputs": []
    },
    {
      "cell_type": "code",
      "metadata": {
        "id": "iZcd9giajrOu",
        "colab": {
          "base_uri": "https://localhost:8080/"
        },
        "outputId": "30a3a424-4b48-42e6-d993-90679285d7a9"
      },
      "source": [
        "#no duplicate items\n",
        "len(df)"
      ],
      "execution_count": 47,
      "outputs": [
        {
          "output_type": "execute_result",
          "data": {
            "text/plain": [
              "904004"
            ]
          },
          "metadata": {
            "tags": []
          },
          "execution_count": 47
        }
      ]
    },
    {
      "cell_type": "code",
      "metadata": {
        "id": "oBOI6V0PkCuO",
        "colab": {
          "base_uri": "https://localhost:8080/"
        },
        "outputId": "f22e2486-b8c7-46e7-ad9b-07e632d20260"
      },
      "source": [
        "#display information about the first item\n",
        "df.iloc[0]"
      ],
      "execution_count": 48,
      "outputs": [
        {
          "output_type": "execute_result",
          "data": {
            "text/plain": [
              "marketplace                                                         US\n",
              "customer_id                                                   45610553\n",
              "review_id                                                RMDCHWD0Y5OZ9\n",
              "product_id                                                  B00HH62VB6\n",
              "product_parent                                               618218723\n",
              "product_title        AGPtek® 10 Isolated Output 9V 12V 18V Guitar P...\n",
              "product_category                                   Musical Instruments\n",
              "star_rating                                                          3\n",
              "helpful_votes                                                        0\n",
              "total_votes                                                          1\n",
              "vine                                                                 N\n",
              "verified_purchase                                                    N\n",
              "review_headline                                            Three Stars\n",
              "review_body                Works very good, but induces ALOT of noise.\n",
              "review_date                                                 2015-08-31\n",
              "Name: 0, dtype: object"
            ]
          },
          "metadata": {
            "tags": []
          },
          "execution_count": 48
        }
      ]
    },
    {
      "cell_type": "code",
      "metadata": {
        "id": "clWTWx7dxSiP",
        "colab": {
          "base_uri": "https://localhost:8080/"
        },
        "outputId": "f823b8ec-415a-431d-986d-b69d6807b637"
      },
      "source": [
        "df.dtypes"
      ],
      "execution_count": 49,
      "outputs": [
        {
          "output_type": "execute_result",
          "data": {
            "text/plain": [
              "marketplace          object\n",
              "customer_id           int64\n",
              "review_id            object\n",
              "product_id           object\n",
              "product_parent        int64\n",
              "product_title        object\n",
              "product_category     object\n",
              "star_rating           int64\n",
              "helpful_votes         int64\n",
              "total_votes           int64\n",
              "vine                 object\n",
              "verified_purchase    object\n",
              "review_headline      object\n",
              "review_body          object\n",
              "review_date          object\n",
              "dtype: object"
            ]
          },
          "metadata": {
            "tags": []
          },
          "execution_count": 49
        }
      ]
    },
    {
      "cell_type": "code",
      "metadata": {
        "id": "eGqR7JuVxWjl"
      },
      "source": [
        "df['product_id'] = df['product_id'].astype('string')"
      ],
      "execution_count": 65,
      "outputs": []
    },
    {
      "cell_type": "code",
      "metadata": {
        "id": "4_QiqvNGmsoJ"
      },
      "source": [
        "#subset data to help iterrows\n",
        "rdf = df[['customer_id', 'product_id']]"
      ],
      "execution_count": 50,
      "outputs": []
    },
    {
      "cell_type": "code",
      "metadata": {
        "id": "mbYuhBPykM2m"
      },
      "source": [
        "#create dictionary data structures\n",
        "from collections import defaultdict\n",
        "\n",
        "itemsReviewedByEachUser = defaultdict(list)\n",
        "usersWhoReviewedEachItem = defaultdict(list)\n",
        "\n",
        "for index, row in rdf.iterrows():\n",
        "  itemsReviewedByEachUser[row['customer_id']].append(row['product_id'])\n",
        "  usersWhoReviewedEachItem[row['product_id']].append(row['customer_id'])"
      ],
      "execution_count": 51,
      "outputs": []
    },
    {
      "cell_type": "code",
      "metadata": {
        "id": "yGD-Gi8totrl"
      },
      "source": [
        "#def jaccard\n",
        "def jaccard(a, b):\n",
        "  intersect = list(set(a).intersection(b))\n",
        "  intersectionLen = len(intersect)\n",
        "  union = list(set(a).union(b))\n",
        "  unionLen = len(union)\n",
        "  return (intersectionLen / unionLen)"
      ],
      "execution_count": 52,
      "outputs": []
    },
    {
      "cell_type": "code",
      "metadata": {
        "id": "45QhuqlMpjXC"
      },
      "source": [
        "#implement recommender function\n",
        "from sortedcontainers import SortedDict \n",
        "\n",
        "def recommenderFunction(userDict, productDict, product_id, dataframe):\n",
        "  #users who have already purchased item i\n",
        "  similarUsers = productDict[product_id]\n",
        "\n",
        "  #dict to store similarity scores by k/v pair: 'product_id', score\n",
        "  similarityScores = {}\n",
        "\n",
        "  #loop through all rows\n",
        "  for index, row in dataframe.iterrows():\n",
        "    #only get items other than i\n",
        "    if(row['product_id'] != product_id):\n",
        "      #calculate similarity\n",
        "      similarityScores[row['product_id']] = jaccard(similarUsers, productDict[row['product_id']])\n",
        "\n",
        "  return similarityScores"
      ],
      "execution_count": 53,
      "outputs": []
    },
    {
      "cell_type": "code",
      "metadata": {
        "id": "0kjY_jgnp9pF",
        "colab": {
          "base_uri": "https://localhost:8080/"
        },
        "outputId": "6b5f4465-23d7-43ab-d8fb-9bbfbc1fa6c8"
      },
      "source": [
        "#user is looking at product_id = B0006VMBHI\n",
        "currentProduct = 'B0006VMBHI'\n",
        "\n",
        "#recommend 10 products from B0006VMBHI\n",
        "recommendationsDict = recommenderFunction(userDict=itemsReviewedByEachUser, productDict=usersWhoReviewedEachItem, product_id=currentProduct, dataframe=rdf)\n",
        "\n",
        "#sort recommendations dict to show highest jaccard\n",
        "sortedRecommendationList = sorted(recommendationsDict.items(), key=lambda x: x[1], reverse=True)\n",
        "\n",
        "#return top 10 product id's\n",
        "for i in range(10):\n",
        "  print(sortedRecommendationList[i])"
      ],
      "execution_count": 54,
      "outputs": [
        {
          "output_type": "stream",
          "text": [
            "('B00006I5SD', 0.028446389496717725)\n",
            "('B00006I5SB', 0.01694915254237288)\n",
            "('B000AJR482', 0.015065913370998116)\n",
            "('B00E7MVP3S', 0.014204545454545454)\n",
            "('B001255YL2', 0.008955223880597015)\n",
            "('B003EIRVO8', 0.008849557522123894)\n",
            "('B0015VEZ22', 0.008333333333333333)\n",
            "('B00006I5UH', 0.00821917808219178)\n",
            "('B00008BWM7', 0.008021390374331552)\n",
            "('B000H2BC4E', 0.007668711656441718)\n"
          ],
          "name": "stdout"
        }
      ]
    },
    {
      "cell_type": "code",
      "metadata": {
        "colab": {
          "base_uri": "https://localhost:8080/"
        },
        "id": "eTjlOl1AfB8M",
        "outputId": "803c4b1d-cad3-47d9-c61a-4bca8b9970fa"
      },
      "source": [
        "#get the product titles for interpretation\n",
        "titles = {}\n",
        "for i in range(10):\n",
        "  prodTuple = sortedRecommendationList[i]\n",
        "  productId = prodTuple[0]\n",
        "  productDataFrame = (df[df['product_id'] == productId])\n",
        "  productDataFrame = productDataFrame.iloc[0]\n",
        "  titles[i+1] = productDataFrame['product_title']\n",
        "\n",
        "#print items from 1 to 10 (1 is the highest recommended)\n",
        "print(titles)"
      ],
      "execution_count": 71,
      "outputs": [
        {
          "output_type": "stream",
          "text": [
            "{1: 'Shure SFG-2 Stylus Tracking Force Gauge', 2: 'Shure M97xE High-Performance Magnetic Phono Cartridge', 3: 'ART Pro Audio DJPRE II Phono Turntable Preamplifier', 4: 'Signstek Blue LCD Backlight Digital Long-Playing LP Turntable Stylus Force Scale Gauge Tester', 5: 'Audio Technica AT120E/T Standard Mount Phono Cartridge', 6: 'Technics: 45 Adaptor for Technics 1200 (SFWE010)', 7: 'GruvGlide GRUVGLIDE DJ Package', 8: 'STANTON MAGNETICS Record Cleaner Kit', 9: 'Shure M97xE High-Performance Magnetic Phono Cartridge', 10: 'Behringer PP400 Ultra Compact Phono Preamplifier'}\n"
          ],
          "name": "stdout"
        }
      ]
    }
  ]
}